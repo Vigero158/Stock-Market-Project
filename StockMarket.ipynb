{
 "cells": [
  {
   "cell_type": "code",
   "execution_count": 15,
   "metadata": {},
   "outputs": [],
   "source": [
    "import pandas as pd\n",
    "import matplotlib as mp\n",
    "import pyfinancialdata \n"
   ]
  },
  {
   "cell_type": "code",
   "execution_count": 16,
   "metadata": {},
   "outputs": [
    {
     "name": "stdout",
     "output_type": "stream",
     "text": [
      "hi\n"
     ]
    }
   ],
   "source": [
    "\n",
    "data = pyfinancialdata.get(provider='bitstamp', instrument='BTC_USD', year=2017)\n",
    "data.describe()\n",
    "data.drop(columns=[\"price\"])\n",
    "data.isna().sum()\n",
    "data.head()\n",
    "data.tail()\n",
    "print(\"hi\")"
   ]
  }
 ],
 "metadata": {
  "kernelspec": {
   "display_name": "base",
   "language": "python",
   "name": "python3"
  },
  "language_info": {
   "codemirror_mode": {
    "name": "ipython",
    "version": 3
   },
   "file_extension": ".py",
   "mimetype": "text/x-python",
   "name": "python",
   "nbconvert_exporter": "python",
   "pygments_lexer": "ipython3",
   "version": "3.9.13"
  },
  "orig_nbformat": 4,
  "vscode": {
   "interpreter": {
    "hash": "7161f0fcdb60b123cb1c47da11da0a0ba70ae0702f8fb051cdded84432c1fe7b"
   }
  }
 },
 "nbformat": 4,
 "nbformat_minor": 2
}
